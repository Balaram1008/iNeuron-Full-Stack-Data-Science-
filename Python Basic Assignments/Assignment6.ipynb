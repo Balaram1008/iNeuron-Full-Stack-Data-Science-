{
 "cells": [
  {
   "cell_type": "code",
   "execution_count": null,
   "id": "442f7fb0",
   "metadata": {},
   "outputs": [],
   "source": [
    "1.What are Escape characters ? and how do you use them ?"
   ]
  },
  {
   "cell_type": "code",
   "execution_count": null,
   "id": "d6ff41c1",
   "metadata": {},
   "outputs": [],
   "source": [
    "Ans: Escape characters represent characters in string values that would otherwise be difficult or impossible to type into code. we can use the backslash character to escape a single character or symbol\n",
    "example: \\t, \\n"
   ]
  },
  {
   "cell_type": "code",
   "execution_count": null,
   "id": "62ce7dd4",
   "metadata": {},
   "outputs": [],
   "source": [
    "2.What do the escape characters n and t stand for ?"
   ]
  },
  {
   "cell_type": "code",
   "execution_count": null,
   "id": "540f7d39",
   "metadata": {},
   "outputs": [],
   "source": [
    "Ans: \\n is a newline, \\t is a tab"
   ]
  },
  {
   "cell_type": "code",
   "execution_count": null,
   "id": "bd8c2998",
   "metadata": {},
   "outputs": [],
   "source": [
    "3.What is the way to include backslash character in a string?"
   ]
  },
  {
   "cell_type": "code",
   "execution_count": null,
   "id": "209c36b8",
   "metadata": {},
   "outputs": [],
   "source": [
    "Ans: The \\\\ escape character will represent the backslash character in a string"
   ]
  },
  {
   "cell_type": "code",
   "execution_count": null,
   "id": "e87afdf3",
   "metadata": {},
   "outputs": [],
   "source": [
    "4.The string \"Howl's Moving Castle\" is a correct value. Why isn't the single quote character in the word Howl's not escaped a problem ?"
   ]
  },
  {
   "cell_type": "code",
   "execution_count": null,
   "id": "ecf593fd",
   "metadata": {},
   "outputs": [],
   "source": [
    "Ans: The string \"Howl's Moving Castle\" escaped the problem because it is wrapped inside double quotes. if its wrapped inside single quotes then we have to use escape character \\' to show single quote in the final output\n",
    "'Howl\\'s Moving Castle' -> 'Howl's Moving Castle'"
   ]
  },
  {
   "cell_type": "code",
   "execution_count": null,
   "id": "57866577",
   "metadata": {},
   "outputs": [],
   "source": [
    "5.How do you write a string of newlines if you don't want to use the n character?"
   ]
  },
  {
   "cell_type": "code",
   "execution_count": null,
   "id": "b286d322",
   "metadata": {},
   "outputs": [],
   "source": [
    "Ans: Multiline string allow you to use newlines in string without the \\n escape character"
   ]
  },
  {
   "cell_type": "code",
   "execution_count": 1,
   "id": "a9a41afb",
   "metadata": {},
   "outputs": [
    {
     "name": "stdout",
     "output_type": "stream",
     "text": [
      "iNeuron full stack\n",
      "Data Science Course\n"
     ]
    }
   ],
   "source": [
    "# Example:\n",
    "a = '''iNeuron full stack\n",
    "Data Science Course'''\n",
    "print(a)"
   ]
  },
  {
   "cell_type": "code",
   "execution_count": null,
   "id": "bea44a0a",
   "metadata": {},
   "outputs": [],
   "source": [
    "6.What are the values of the given expressions ?\n",
    "'Hello, world!'[1]\n",
    "'Hello, world!'[0:5]\n",
    "'Hello, world!'[:5]\n",
    "'Hello, world!'[3:]"
   ]
  },
  {
   "cell_type": "code",
   "execution_count": null,
   "id": "f8f320c8",
   "metadata": {},
   "outputs": [],
   "source": [
    "Ans: The values for the given expressions are:"
   ]
  },
  {
   "cell_type": "code",
   "execution_count": 4,
   "id": "17e45a23",
   "metadata": {},
   "outputs": [
    {
     "data": {
      "text/plain": [
       "'e'"
      ]
     },
     "execution_count": 4,
     "metadata": {},
     "output_type": "execute_result"
    }
   ],
   "source": [
    "'Hello, world!'[1]"
   ]
  },
  {
   "cell_type": "code",
   "execution_count": 5,
   "id": "fcf3289c",
   "metadata": {},
   "outputs": [
    {
     "data": {
      "text/plain": [
       "'Hello'"
      ]
     },
     "execution_count": 5,
     "metadata": {},
     "output_type": "execute_result"
    }
   ],
   "source": [
    "'Hello, world!'[0:5]"
   ]
  },
  {
   "cell_type": "code",
   "execution_count": 6,
   "id": "14ea541f",
   "metadata": {},
   "outputs": [
    {
     "data": {
      "text/plain": [
       "'Hello'"
      ]
     },
     "execution_count": 6,
     "metadata": {},
     "output_type": "execute_result"
    }
   ],
   "source": [
    "'Hello, world!'[:5]"
   ]
  },
  {
   "cell_type": "code",
   "execution_count": 7,
   "id": "18dbb8c0",
   "metadata": {},
   "outputs": [
    {
     "data": {
      "text/plain": [
       "'lo, world!'"
      ]
     },
     "execution_count": 7,
     "metadata": {},
     "output_type": "execute_result"
    }
   ],
   "source": [
    "'Hello, world!'[3:]"
   ]
  },
  {
   "cell_type": "code",
   "execution_count": null,
   "id": "50b80f36",
   "metadata": {},
   "outputs": [],
   "source": [
    "7.What are the values of the following expressions ?\n",
    "'Hello'.upper()\n",
    "'Hello'.upper().isupper()\n",
    "'Hello'.upper().lower()"
   ]
  },
  {
   "cell_type": "code",
   "execution_count": null,
   "id": "8e28c344",
   "metadata": {},
   "outputs": [],
   "source": [
    "Ans: The values for the given expressions are:"
   ]
  },
  {
   "cell_type": "code",
   "execution_count": 8,
   "id": "c2a25567",
   "metadata": {},
   "outputs": [
    {
     "data": {
      "text/plain": [
       "'HELLO'"
      ]
     },
     "execution_count": 8,
     "metadata": {},
     "output_type": "execute_result"
    }
   ],
   "source": [
    "'Hello'.upper()"
   ]
  },
  {
   "cell_type": "code",
   "execution_count": 9,
   "id": "f9d142bd",
   "metadata": {},
   "outputs": [
    {
     "data": {
      "text/plain": [
       "True"
      ]
     },
     "execution_count": 9,
     "metadata": {},
     "output_type": "execute_result"
    }
   ],
   "source": [
    "'Hello'.upper().isupper()"
   ]
  },
  {
   "cell_type": "code",
   "execution_count": 10,
   "id": "c84b5e5a",
   "metadata": {},
   "outputs": [
    {
     "data": {
      "text/plain": [
       "'hello'"
      ]
     },
     "execution_count": 10,
     "metadata": {},
     "output_type": "execute_result"
    }
   ],
   "source": [
    "'Hello'.upper().lower()"
   ]
  },
  {
   "cell_type": "code",
   "execution_count": null,
   "id": "875017df",
   "metadata": {},
   "outputs": [],
   "source": [
    "8.What are the values of the following expressions ?\n",
    "'Remember, remember, the fifith of July.'.split()\n",
    "'-'.join('There can only one'.split())"
   ]
  },
  {
   "cell_type": "code",
   "execution_count": null,
   "id": "7643e0eb",
   "metadata": {},
   "outputs": [],
   "source": [
    "Ans: The values for the given expressions are:"
   ]
  },
  {
   "cell_type": "code",
   "execution_count": 11,
   "id": "f44c4638",
   "metadata": {},
   "outputs": [
    {
     "data": {
      "text/plain": [
       "['Remember,', 'remember,', 'the', 'fifith', 'of', 'July.']"
      ]
     },
     "execution_count": 11,
     "metadata": {},
     "output_type": "execute_result"
    }
   ],
   "source": [
    "'Remember, remember, the fifith of July.'.split()"
   ]
  },
  {
   "cell_type": "code",
   "execution_count": 13,
   "id": "c4a5267a",
   "metadata": {},
   "outputs": [
    {
     "data": {
      "text/plain": [
       "'There-can-only-one'"
      ]
     },
     "execution_count": 13,
     "metadata": {},
     "output_type": "execute_result"
    }
   ],
   "source": [
    "'-'.join('There can only one'.split())"
   ]
  },
  {
   "cell_type": "code",
   "execution_count": null,
   "id": "b55209cb",
   "metadata": {},
   "outputs": [],
   "source": [
    "9.What are the methods for right-justifying, left-justifying and centering a string ?"
   ]
  },
  {
   "cell_type": "code",
   "execution_count": null,
   "id": "04048fb9",
   "metadata": {},
   "outputs": [],
   "source": [
    "Ans: The rjust(),ljust(),center() string methods, respectively."
   ]
  },
  {
   "cell_type": "code",
   "execution_count": null,
   "id": "8d479181",
   "metadata": {},
   "outputs": [],
   "source": [
    "10.What is the best way to remove whitespace characters from the start or end ?"
   ]
  },
  {
   "cell_type": "code",
   "execution_count": null,
   "id": "927ce51c",
   "metadata": {},
   "outputs": [],
   "source": [
    "Ans: The lstrip() and rstrip() methods remove whitesapce characters from the left and right ends of a string respectively."
   ]
  }
 ],
 "metadata": {
  "kernelspec": {
   "display_name": "Python 3 (ipykernel)",
   "language": "python",
   "name": "python3"
  },
  "language_info": {
   "codemirror_mode": {
    "name": "ipython",
    "version": 3
   },
   "file_extension": ".py",
   "mimetype": "text/x-python",
   "name": "python",
   "nbconvert_exporter": "python",
   "pygments_lexer": "ipython3",
   "version": "3.9.7"
  }
 },
 "nbformat": 4,
 "nbformat_minor": 5
}
