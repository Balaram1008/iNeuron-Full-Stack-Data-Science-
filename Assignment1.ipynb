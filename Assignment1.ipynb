{
 "cells": [
  {
   "cell_type": "code",
   "execution_count": null,
   "id": "436d9573",
   "metadata": {},
   "outputs": [],
   "source": [
    "1. In the below elements which of them are values or an expression? eg:- values can be integer or string and expressions will be mathematical operators.\n",
    "* \n",
    "'hello'\n",
    "-87.8\n",
    "- \n",
    "/ \n",
    "+\n",
    "6 \n"
   ]
  },
  {
   "cell_type": "code",
   "execution_count": null,
   "id": "728b1e96",
   "metadata": {},
   "outputs": [],
   "source": [
    "Answer:\n",
    "    \n",
    "    values are:-\n",
    "        'hello'\n",
    "         -87.8\n",
    "            6\n",
    "                 \n",
    "    expressions are:-\n",
    "        +\n",
    "        -\n",
    "        *\n",
    "        /"
   ]
  },
  {
   "cell_type": "code",
   "execution_count": null,
   "id": "b02b0767",
   "metadata": {},
   "outputs": [],
   "source": [
    "2. What is the difference between string and variable?"
   ]
  },
  {
   "cell_type": "code",
   "execution_count": null,
   "id": "77e86b34",
   "metadata": {},
   "outputs": [],
   "source": [
    "Answer:\n",
    "    \n",
    "    -> Variables are symbols that you can use to store data in a program.\n",
    "    -> String is collection of characters.\n",
    "    -> Strings are data, so we can use them to fill up a variable.\n",
    "    -> variable is kind of entity which helps to hold our data inside main memory."
   ]
  },
  {
   "cell_type": "code",
   "execution_count": null,
   "id": "768d23d9",
   "metadata": {},
   "outputs": [],
   "source": [
    "3. Describe three different data types."
   ]
  },
  {
   "cell_type": "code",
   "execution_count": null,
   "id": "960f3d31",
   "metadata": {},
   "outputs": [],
   "source": [
    "Answer:\n",
    "    \n",
    "    Data Types      Examples               Explanation                           Mutable/Immutable\n",
    "    String         \"Balu\", \"50.6\"         anything between \" \"becomes string      Immutable\n",
    "    Integer         1432                  Whole numbers                           Immutable\n",
    "    Float           5.2354                Decimal Numbers                         Immutable\n",
    "    Boolean         True, False           Truth values that represent Yes/No      Immutable\n",
    "    List            [a,b,c,d,e]           A collection of data,between [ ]        Mutable"
   ]
  },
  {
   "cell_type": "code",
   "execution_count": null,
   "id": "8f02f9a4",
   "metadata": {},
   "outputs": [],
   "source": [
    "4. What is an expression made up of? What do all expressions do?"
   ]
  },
  {
   "cell_type": "code",
   "execution_count": null,
   "id": "8670ce8b",
   "metadata": {},
   "outputs": [],
   "source": [
    "Answer:\n",
    "    \n",
    "   -> An expression is made up of a combination of operators and operands that is interpreted to produce some other value. \n",
    "   -> In any programming language, an expression is evaluated as per the precedence of its operators.\n",
    "   -> Expressions are representations of value."
   ]
  },
  {
   "cell_type": "code",
   "execution_count": null,
   "id": "3b9f04a9",
   "metadata": {},
   "outputs": [],
   "source": [
    "5. This assignment statements, like spam = 10. What is the difference between an expression and a statement?"
   ]
  },
  {
   "cell_type": "code",
   "execution_count": null,
   "id": "d7af2932",
   "metadata": {},
   "outputs": [],
   "source": [
    "Answer:\n",
    "    \n",
    " -> Expression is made up of values, containers, and mathematical operators (operands) and\n",
    "    the statement is just like a command that a python interpreter executes like print."
   ]
  },
  {
   "cell_type": "code",
   "execution_count": null,
   "id": "f9f79097",
   "metadata": {},
   "outputs": [],
   "source": [
    "6. After running the following code, what does the variable bacon contain?\n",
    "bacon = 22\n",
    "bacon + 1"
   ]
  },
  {
   "cell_type": "code",
   "execution_count": null,
   "id": "539f5518",
   "metadata": {},
   "outputs": [],
   "source": [
    "Answer:\n",
    "    \n",
    "    It gives the value 23."
   ]
  },
  {
   "cell_type": "code",
   "execution_count": 1,
   "id": "591a7214",
   "metadata": {},
   "outputs": [],
   "source": [
    "bacon = 22"
   ]
  },
  {
   "cell_type": "code",
   "execution_count": 2,
   "id": "adcf0762",
   "metadata": {},
   "outputs": [
    {
     "data": {
      "text/plain": [
       "23"
      ]
     },
     "execution_count": 2,
     "metadata": {},
     "output_type": "execute_result"
    }
   ],
   "source": [
    "bacon + 1"
   ]
  },
  {
   "cell_type": "code",
   "execution_count": null,
   "id": "a844a395",
   "metadata": {},
   "outputs": [],
   "source": [
    "7. What should the values of the following two terms be?\n",
    "'spam' + 'spamspam'\n",
    "'spam' * 3"
   ]
  },
  {
   "cell_type": "code",
   "execution_count": 5,
   "id": "0613735f",
   "metadata": {},
   "outputs": [],
   "source": [
    "Answer: "
   ]
  },
  {
   "cell_type": "code",
   "execution_count": 7,
   "id": "618cd962",
   "metadata": {},
   "outputs": [
    {
     "data": {
      "text/plain": [
       "'spamspamspam'"
      ]
     },
     "execution_count": 7,
     "metadata": {},
     "output_type": "execute_result"
    }
   ],
   "source": [
    "'spam' + 'spamspam'"
   ]
  },
  {
   "cell_type": "code",
   "execution_count": 8,
   "id": "e74d27ce",
   "metadata": {},
   "outputs": [
    {
     "data": {
      "text/plain": [
       "'spamspamspam'"
      ]
     },
     "execution_count": 8,
     "metadata": {},
     "output_type": "execute_result"
    }
   ],
   "source": [
    "'spam' * 3"
   ]
  },
  {
   "cell_type": "code",
   "execution_count": null,
   "id": "0e2f0a05",
   "metadata": {},
   "outputs": [],
   "source": [
    "8. Why is eggs a valid variable name while 100 is invalid?"
   ]
  },
  {
   "cell_type": "code",
   "execution_count": null,
   "id": "ee60b028",
   "metadata": {},
   "outputs": [],
   "source": [
    "Answer:\n",
    "    \n",
    "   ->  we can not start giving variable an integer name.\n",
    "       if, we should begin with, a string-like alphabet name then integer. \n",
    "       eggs100 is valid."
   ]
  },
  {
   "cell_type": "code",
   "execution_count": null,
   "id": "7b0f127e",
   "metadata": {},
   "outputs": [],
   "source": [
    "9. What three functions can be used to get the integer, floating-point number, or string version of a value?"
   ]
  },
  {
   "cell_type": "code",
   "execution_count": null,
   "id": "3e6964bd",
   "metadata": {},
   "outputs": [],
   "source": [
    "Answer:\n",
    "    \n",
    "    integer                  int(),\n",
    "    \n",
    "    floating-point number   float(),\n",
    "    \n",
    "    string                  str()"
   ]
  },
  {
   "cell_type": "code",
   "execution_count": null,
   "id": "34562df4",
   "metadata": {},
   "outputs": [],
   "source": [
    "10. Why does this expression cause an error? How can you fix it?\n",
    "'I have eaten ' + 99 + ' burritos.'"
   ]
  },
  {
   "cell_type": "code",
   "execution_count": null,
   "id": "d42a0140",
   "metadata": {},
   "outputs": [],
   "source": [
    "Answer:\n",
    "    \n",
    "   -> because 99 is an integer it cannot be concatenated with strings, if we have to concatenate then we need to do typecasting."
   ]
  }
 ],
 "metadata": {
  "kernelspec": {
   "display_name": "Python 3 (ipykernel)",
   "language": "python",
   "name": "python3"
  },
  "language_info": {
   "codemirror_mode": {
    "name": "ipython",
    "version": 3
   },
   "file_extension": ".py",
   "mimetype": "text/x-python",
   "name": "python",
   "nbconvert_exporter": "python",
   "pygments_lexer": "ipython3",
   "version": "3.9.7"
  }
 },
 "nbformat": 4,
 "nbformat_minor": 5
}
